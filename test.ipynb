{
 "cells": [
  {
   "cell_type": "code",
   "execution_count": 30,
   "id": "44cb9f72",
   "metadata": {},
   "outputs": [],
   "source": [
    "class Node():\n",
    "    def __init__(self, val, next):\n",
    "        self.value = val\n",
    "        self.next = next\n",
    "\n",
    "def sum(left, right):\n",
    "    left_value = 0\n",
    "    right_value = 0;\n",
    "    step = 1\n",
    "    \n",
    "    while left:\n",
    "        left_value += left_value  + left.value * step\n",
    "        step *= 10\n",
    "        left = left.next\n",
    "    step = 1\n",
    "    while right:\n",
    "        right_value += right_value  + right.value * step\n",
    "        right = right.next\n",
    "        step = step * 10\n",
    "    \n",
    "    s = left_value+right_value\n",
    "    \n",
    "    # to list\n",
    "    root = Node(0, None)\n",
    "    temp = Node(0, None)\n",
    "    cur  = root\n",
    "    \n",
    "    while s > 0:\n",
    "        temp = Node(s % 10, None)\n",
    "        cur.next = temp\n",
    "        cur = temp\n",
    "        s = s // 10\n",
    "    ret = root.next\n",
    "    root.next = None\n",
    "    return ret\n",
    "    "
   ]
  },
  {
   "cell_type": "code",
   "execution_count": 35,
   "id": "e0b66b74",
   "metadata": {},
   "outputs": [
    {
     "data": {
      "text/plain": [
       "1308"
      ]
     },
     "execution_count": 35,
     "metadata": {},
     "output_type": "execute_result"
    }
   ],
   "source": [
    "716+592"
   ]
  },
  {
   "cell_type": "code",
   "execution_count": 31,
   "id": "8ca8d4fa",
   "metadata": {},
   "outputs": [],
   "source": [
    "node1 = Node(6, None)\n",
    "node2 = Node(1, node1)\n",
    "node3 = Node(7, node2)\n",
    "\n",
    "node21 = Node(2, None)\n",
    "node22 = Node(9, node21)\n",
    "node23 = Node(5, node22)"
   ]
  },
  {
   "cell_type": "code",
   "execution_count": 32,
   "id": "1510478d",
   "metadata": {},
   "outputs": [],
   "source": [
    "r = sum(node3, node23)"
   ]
  },
  {
   "cell_type": "code",
   "execution_count": 23,
   "id": "2c44f650",
   "metadata": {},
   "outputs": [
    {
     "data": {
      "text/plain": [
       "19"
      ]
     },
     "execution_count": 23,
     "metadata": {},
     "output_type": "execute_result"
    }
   ],
   "source": [
    "199//10"
   ]
  },
  {
   "cell_type": "code",
   "execution_count": 34,
   "id": "1d82e03e",
   "metadata": {},
   "outputs": [
    {
     "data": {
      "text/plain": [
       "8"
      ]
     },
     "execution_count": 34,
     "metadata": {},
     "output_type": "execute_result"
    }
   ],
   "source": [
    "r.value"
   ]
  },
  {
   "cell_type": "code",
   "execution_count": null,
   "id": "3c8ad552",
   "metadata": {},
   "outputs": [],
   "source": []
  },
  {
   "cell_type": "code",
   "execution_count": null,
   "id": "5b63874f",
   "metadata": {},
   "outputs": [],
   "source": []
  }
 ],
 "metadata": {
  "kernelspec": {
   "display_name": "Python 3 (ipykernel)",
   "language": "python",
   "name": "python3"
  },
  "language_info": {
   "codemirror_mode": {
    "name": "ipython",
    "version": 3
   },
   "file_extension": ".py",
   "mimetype": "text/x-python",
   "name": "python",
   "nbconvert_exporter": "python",
   "pygments_lexer": "ipython3",
   "version": "3.11.5"
  }
 },
 "nbformat": 4,
 "nbformat_minor": 5
}
