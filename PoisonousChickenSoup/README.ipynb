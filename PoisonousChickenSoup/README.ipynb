{
 "cells": [
  {
   "cell_type": "markdown",
   "id": "977c41ea",
   "metadata": {},
   "source": [
    "# TODO\n",
    "\n",
    "毒鸡汤代办列表:\n",
    "\n",
    "1. Using dify to implement a chat bot for poisonous chicken soup\n",
    "\n",
    "# SKLearn:\n",
    "1. https://scikit-learn.org/1.4/tutorial/text_analytics/working_with_text_data.html\n",
    "1. https://scikit-learn.org/1.5/auto_examples/text/plot_document_classification_20newsgroups.html\n",
    "1. https://towardsdatascience.com/multi-class-text-classification-with-scikit-learn-12f1e60e0a9f \n",
    "1. https://dylancastillo.co/posts/text-classification-using-python-and-scikit-learn.html\n",
    "1. https://scikit-learn.org/1.5/auto_examples/model_selection/plot_grid_search_text_feature_extraction.html#sphx-glr-auto-examples-model-selection-plot-grid-search-text-feature-extraction-py\n",
    "1. https://scikit-learn.org/1.5/auto_examples/bicluster/plot_bicluster_newsgroups.html#sphx-glr-auto-examples-bicluster-plot-bicluster-newsgroups-py \n",
    "1. [Clustering text documents using k-means](https://scikit-learn.org/1.5/auto_examples/text/plot_document_clustering.html#sphx-glr-auto-examples-text-plot-document-clustering-py)\n",
    "1. https://scikit-learn.org/1.5/auto_examples/semi_supervised/plot_semi_supervised_newsgroups.html#sphx-glr-auto-examples-semi-supervised-plot-semi-supervised-newsgroups-py\n",
    "1. [Biclustering documents with the Spectral Co-clustering algorithm](https://scikit-learn.org/1.5/auto_examples/bicluster/plot_bicluster_newsgroups.html#sphx-glr-auto-examples-bicluster-plot-bicluster-newsgroups-py)\n",
    "1. "
   ]
  },
  {
   "cell_type": "code",
   "execution_count": null,
   "id": "653a52b3",
   "metadata": {},
   "outputs": [],
   "source": []
  }
 ],
 "metadata": {
  "kernelspec": {
   "display_name": "Python 3 (ipykernel)",
   "language": "python",
   "name": "python3"
  },
  "language_info": {
   "codemirror_mode": {
    "name": "ipython",
    "version": 3
   },
   "file_extension": ".py",
   "mimetype": "text/x-python",
   "name": "python",
   "nbconvert_exporter": "python",
   "pygments_lexer": "ipython3",
   "version": "3.11.5"
  }
 },
 "nbformat": 4,
 "nbformat_minor": 5
}
