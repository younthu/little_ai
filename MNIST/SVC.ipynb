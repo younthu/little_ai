{
 "cells": [
  {
   "cell_type": "markdown",
   "id": "727c4f87",
   "metadata": {},
   "source": [
    "# Key takeaways\n",
    "\n",
    "from https://scikit-learn.org/stable/auto_examples/classification/plot_digits_classification.html \n",
    "\n",
    "1. score at 0.968\n",
    "1. `svm.SVC(gamma=0.001)`, gamma ： ‘rbf’,‘poly’ 和‘sigmoid’的核函数参数。默认是’auto’，则会选择1/n_features\n",
    "1. `for ax, image, label in zip(axes, digits.images, digits.target)`, zip参数的数组长度不一样的时候，取最短的数组为参考。如果最短的数组长度为3，那么返回的zip好的对象长度就为3.\n",
    "    1. zip是一个生成器，迭代一次以后就结束了。下面的代码，第2次会打印0:\n",
    "       ~~~python\n",
    "\n",
    "        print(f\"len(z): {len(list(z))}\")\n",
    "        print(f\"len(z): {len(list(z))}\")\n",
    "       ~~~\n",
    "1. `digits.images.reshape((n_samples, -1))`, \n",
    "    1. `-1`怎么理解？ 新的形状应该与原始形状兼容。如果是整数，则结果将是该长度的1-D数组。一个形状维度可以是`-1`。在这种情况下，从数组的长度和其余维度推断该值。\n",
    "1. ax.set_axis_off() # 隐藏外框"
   ]
  },
  {
   "cell_type": "code",
   "execution_count": 1,
   "id": "0e3a5378",
   "metadata": {},
   "outputs": [],
   "source": [
    "import matplotlib.pyplot as plt\n",
    "\n",
    "from sklearn import datasets, metrics, svm\n",
    "from sklearn.model_selection import train_test_split"
   ]
  },
  {
   "cell_type": "code",
   "execution_count": 25,
   "id": "d753daed",
   "metadata": {},
   "outputs": [
    {
     "data": {
      "image/png": "[encoded data removed]",
      "text/plain": [
       "<Figure size 1000x300 with 7 Axes>"
      ]
     },
     "metadata": {},
     "output_type": "display_data"
    }
   ],
   "source": [
    "digits = datasets.load_digits()\n",
    "\n",
    "_, axes = plt.subplots(nrows=1, ncols=7, figsize=(10, 3))\n",
    "for ax, image, label in zip(axes, digits.images, digits.target):\n",
    "    # ax.set_axis_off() # 隐藏外框\n",
    "    ax.imshow(image, cmap=plt.cm.gray_r, interpolation=\"nearest\")\n",
    "    ax.set_title(\"Training: %i\" % label)\n",
    "    "
   ]
  },
  {
   "cell_type": "code",
   "execution_count": 29,
   "id": "bcbe23a7",
   "metadata": {},
   "outputs": [
    {
     "name": "stdout",
     "output_type": "stream",
     "text": [
      "score: 0.9688542825361512\n"
     ]
    }
   ],
   "source": [
    "n_samples = len(digits.images)\n",
    "data = digits.images.reshape((n_samples, -1))\n",
    "\n",
    "# create a classifier: a support vector classifier\n",
    "clf = svm.SVC(gamma=0.001)\n",
    "\n",
    "# Split data into 50% train and 50% test subsets\n",
    "X_train, X_test, y_train, y_test = train_test_split(\n",
    "data, digits.target, test_size=0.5, shuffle=False\n",
    ")\n",
    "\n",
    "# Learn the gitis on the train subset\n",
    "clf.fit(X_train, y_train)\n",
    "\n",
    "# Predict the value of the digit on the test subset\n",
    "predicted = clf.predict(X_test)\n",
    "print(f\"score: {clf.score(X_test, y_test)}\")"
   ]
  },
  {
   "cell_type": "code",
   "execution_count": 27,
   "id": "4a68a2d0",
   "metadata": {},
   "outputs": [
    {
     "data": {
      "image/png": "[encoded data removed]",
      "text/plain": [
       "<Figure size 1000x300 with 7 Axes>"
      ]
     },
     "metadata": {},
     "output_type": "display_data"
    }
   ],
   "source": [
    "_, axes = plt.subplots(nrows=1, ncols=7, figsize=(10, 3))\n",
    "for ax, image, prediction in zip(axes, X_test, predicted):\n",
    "    ax.set_axis_off() # 隐藏外框\n",
    "    image = image.reshape(8, 8)\n",
    "    ax.imshow(image, cmap=plt.cm.gray_r, interpolation=\"nearest\")\n",
    "    ax.set_title(f\"Prediction: {prediction}\")\n"
   ]
  },
  {
   "cell_type": "markdown",
   "id": "92bf41d5",
   "metadata": {},
   "source": [
    "# Zip\n",
    "如果数组长度不一样，zip会发生什么？\n",
    "1. 以最短的数组为标准\n",
    "1. 返回的是生成器，不能重复使用。\n"
   ]
  },
  {
   "cell_type": "code",
   "execution_count": 14,
   "id": "3c877b08",
   "metadata": {},
   "outputs": [
    {
     "name": "stdout",
     "output_type": "stream",
     "text": [
      "a: 1, z: 1\n",
      "a: 2, z: 2\n",
      "a: 3, z: 3\n",
      "a: 4, z: 4\n",
      "len(z): 0\n",
      "len(z): 0\n"
     ]
    }
   ],
   "source": [
    "ax = [1,2,3,4]\n",
    "labels = [\"1\", \"2\", \"3\", \"4\", \"5\", \"6\", \"7\", \"8\"]\n",
    "\n",
    "\n",
    "z = zip(ax, labels)\n",
    "\n",
    "\n",
    "for a,l in z:\n",
    "    print(f\"a: {a}, z: {l}\")\n",
    "    \n",
    "print(f\"len(z): {len(list(z))}\")\n",
    "print(f\"len(z): {len(list(z))}\")"
   ]
  },
  {
   "cell_type": "code",
   "execution_count": null,
   "id": "698cff56",
   "metadata": {},
   "outputs": [],
   "source": []
  },
  {
   "cell_type": "code",
   "execution_count": null,
   "id": "06513bad",
   "metadata": {},
   "outputs": [],
   "source": []
  }
 ],
 "metadata": {
  "kernelspec": {
   "display_name": "Python 3 (ipykernel)",
   "language": "python",
   "name": "python3"
  },
  "language_info": {
   "codemirror_mode": {
    "name": "ipython",
    "version": 3
   },
   "file_extension": ".py",
   "mimetype": "text/x-python",
   "name": "python",
   "nbconvert_exporter": "python",
   "pygments_lexer": "ipython3",
   "version": "3.11.5"
  }
 },
 "nbformat": 4,
 "nbformat_minor": 5
}
