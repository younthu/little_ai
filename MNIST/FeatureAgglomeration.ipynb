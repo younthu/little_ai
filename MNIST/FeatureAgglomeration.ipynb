{
 "cells": [
  {
   "cell_type": "markdown",
   "id": "f57c8443",
   "metadata": {},
   "source": [
    "# Key takeaways\n",
    "\n",
    "1. grid_to_graph, `sklearn.feature_extraction.grid_to_graph`, 没有搞明白这是干啥用的。\n",
    "1. plt.clf(), Clear the current figure. plt.close() will close the figure window entirely, where plt.clf() will just clear the figure - you can still paint another plot onto it.\n",
    "1. agglo.labels_\n",
    "1. 清除坐标\n",
    "   ~~~python\n",
    "\n",
    "    plt.xticks(()) # 清除坐标\n",
    "    plt.yticks(()) # 清除坐标\n",
    "   ~~~\n",
    "1. `subplot(nrows, ncols, index, **kwargs)`和`subplots(nrows=1, ncols=1)`是不同的函数。https://stackoverflow.com/questions/52214776/python-matplotlib-differences-between-subplot-and-subplots\n",
    "    1. subplot在指定的行列画图\n",
    "    1. subplots话指定行列数量的图\n",
    "1. 聚类方法对比, https://scikit-learn.cn/stable/modules/clustering.html"
   ]
  },
  {
   "cell_type": "code",
   "execution_count": 6,
   "id": "ed8f938d",
   "metadata": {},
   "outputs": [
    {
     "data": {
      "image/png": "[encoded data removed]",
      "text/plain": [
       "<Figure size 400x350 with 9 Axes>"
      ]
     },
     "metadata": {},
     "output_type": "display_data"
    }
   ],
   "source": [
    "import matplotlib.pyplot as plt\n",
    "import numpy as np\n",
    "\n",
    "from sklearn import cluster, datasets\n",
    "from sklearn.feature_extraction.image import grid_to_graph\n",
    "\n",
    "digits = datasets.load_digits()\n",
    "images = digits.images\n",
    "X = np.reshape(images, (len(images), -1))\n",
    "connectivity = grid_to_graph(*images[0].shape)\n",
    "\n",
    "agglo = cluster.FeatureAgglomeration(connectivity=connectivity, n_clusters=32)\n",
    "\n",
    "agglo.fit(X)\n",
    "X_reduced = agglo.transform(X)\n",
    "\n",
    "X_restored = agglo.inverse_transform(X_reduced)\n",
    "images_restored = np.reshape(X_restored, images.shape)\n",
    "plt.figure(1, figsize=(4, 3.5))\n",
    "plt.clf()\n",
    "plt.subplots_adjust(left=0.01, right=0.99, bottom=0.01, top=0.91)\n",
    "for i in range(4):\n",
    "    plt.subplot(3, 4, i + 1)\n",
    "    plt.imshow(images[i], cmap=plt.cm.gray, vmax=16, interpolation=\"nearest\")\n",
    "    plt.xticks(()) # 清除坐标\n",
    "    plt.yticks(()) # 清除坐标\n",
    "    if i == 1:\n",
    "        plt.title(\"Original data\")\n",
    "    plt.subplot(3, 4, 4 + i + 1)\n",
    "    plt.imshow(images_restored[i], cmap=plt.cm.gray, vmax=16, interpolation=\"nearest\")\n",
    "    if i == 1:\n",
    "        plt.title(\"Agglomerated data\")\n",
    "    plt.xticks(())\n",
    "    plt.yticks(())\n",
    "    \n",
    "plt.subplot(3, 4, 10)\n",
    "plt.imshow(\n",
    "    np.reshape(agglo.labels_, images[0].shape),\n",
    "    interpolation=\"nearest\",\n",
    "    cmap=plt.cm.nipy_spectral,\n",
    ")\n",
    "plt.xticks(())\n",
    "plt.yticks(())\n",
    "plt.title(\"Labels\")\n",
    "plt.show()"
   ]
  },
  {
   "cell_type": "code",
   "execution_count": null,
   "id": "5b1b5c66",
   "metadata": {},
   "outputs": [],
   "source": []
  }
 ],
 "metadata": {
  "kernelspec": {
   "display_name": "Python 3 (ipykernel)",
   "language": "python",
   "name": "python3"
  },
  "language_info": {
   "codemirror_mode": {
    "name": "ipython",
    "version": 3
   },
   "file_extension": ".py",
   "mimetype": "text/x-python",
   "name": "python",
   "nbconvert_exporter": "python",
   "pygments_lexer": "ipython3",
   "version": "3.11.5"
  }
 },
 "nbformat": 4,
 "nbformat_minor": 5
}
