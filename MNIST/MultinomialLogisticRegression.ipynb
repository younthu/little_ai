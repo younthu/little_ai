{
 "cells": [
  {
   "cell_type": "markdown",
   "id": "e090942b",
   "metadata": {},
   "source": [
    "# Key takeaways\n",
    "\n",
    "The LogisticRegression get a score of 0.8277.\n",
    "\n",
    "1. L1 penalty\n",
    "    A regression model that uses L1 regularization technique is called Lasso Regression and model which uses L2 is called Ridge Regression.\n",
    "1. SAGA algorithm\n",
    "1. sklearn.datasets.fetch_openml, load data from https://www.openml.org/d/554\n",
    "   ~~~python\n",
    "       # load data from https://www.openml.org/d/554\n",
    "        X, y = fetch_openml(\"mnist_786\", version=1, return_X_y=True, as_frame=False)\n",
    "   ~~~\n",
    "1. sklearn.preprocessing.StandardScaler\n",
    "1. coef\n",
    "1. Sparsity\n",
    "1. score = clf.score(X_test, y_test)\n",
    "1. \"abc123\"[3::-1] # “1cba”\n",
    "1. \"abc123\"[3:0:-1] # \"1cb\"\n",
    "1. \"abc123\"[3:-1:-1] # ''"
   ]
  },
  {
   "cell_type": "markdown",
   "id": "42132aef",
   "metadata": {},
   "source": [
    "A regression model that uses L1 regularization technique is called Lasso Regression and model which uses L2 is called Ridge Regression.\n",
    "\n",
    "The key difference between these two is the penalty term.\n",
    "\n",
    "Ridge regression adds “squared magnitude” of coefficient as penalty term to the loss function. Here the highlighted part represents L2 regularization element.\n",
    "\n",
    "\n",
    "Cost function\n",
    "Here, if lambda is zero then you can imagine we get back OLS. However, if lambda is very large then it will add too much weight and it will lead to under-fitting. Having said that it’s important how lambda is chosen. This technique works very well to avoid over-fitting issue.\n",
    "\n",
    "Lasso Regression (Least Absolute Shrinkage and Selection Operator) adds “absolute value of magnitude” of coefficient as penalty term to the loss function.\n",
    "\n",
    "\n",
    "Cost function\n",
    "Again, if lambda is zero then we will get back OLS whereas very large value will make coefficients zero hence it will under-fit.\n",
    "\n",
    "The key difference between these techniques is that Lasso shrinks the less important feature’s coefficient to zero thus, removing some feature altogether. So, this works well for feature selection in case we have a huge number of features.\n",
    "\n",
    "Traditional methods like cross-validation, stepwise regression to handle overfitting and perform feature selection work well with a small set of features but these techniques are a great alternative when we are dealing with a large set of features."
   ]
  },
  {
   "cell_type": "code",
   "execution_count": 46,
   "id": "7d611a5a",
   "metadata": {},
   "outputs": [
    {
     "name": "stderr",
     "output_type": "stream",
     "text": [
      "/Users/andrewy/anaconda3/envs/little_ai_zoo/lib/python3.11/site-packages/sklearn/datasets/_openml.py:1002: FutureWarning: The default value of `parser` will change from `'liac-arff'` to `'auto'` in 1.4. You can set `parser='auto'` to silence this warning. Therefore, an `ImportError` will be raised from 1.4 if the dataset is dense and pandas is not installed. Note that the pandas parser may return different data types. See the Notes Section in fetch_openml's API doc for details.\n",
      "  warn(\n"
     ]
    },
    {
     "name": "stdout",
     "output_type": "stream",
     "text": [
      "Sparsity with L1 penalty: 72.36%\n",
      "Test score with L1 penalty: 0.8277\n",
      "example run in 21.130 s\n"
     ]
    },
    {
     "data": {
      "image/png": "[encoded data removed]",
      "text/plain": [
       "<Figure size 1000x500 with 10 Axes>"
      ]
     },
     "metadata": {},
     "output_type": "display_data"
    }
   ],
   "source": [
    "# https://scikit-learn.org/stable/auto_examples/linear_model/plot_sparse_logistic_regression_mnist.html\n",
    "\n",
    "import time\n",
    "import matplotlib.pyplot as plt\n",
    "import numpy as np\n",
    "\n",
    "from sklearn.datasets import load_digits, fetch_openml\n",
    "from sklearn.linear_model import LogisticRegression\n",
    "from sklearn.model_selection import train_test_split\n",
    "from sklearn.preprocessing import StandardScaler\n",
    "from sklearn.utils import check_random_state\n",
    "\n",
    "# Turn down for faster convergence\n",
    "t0 = time.time()\n",
    "train_samples = 5000\n",
    "\n",
    "# load data from https://www.openml.org/d/554\n",
    "X, y = fetch_openml(\"mnist_784\", version=1, return_X_y=True, as_frame=False)\n",
    "\n",
    "random_state = check_random_state(0) # Turn seed into a np.random.RandomState instance.\n",
    "permutation = random_state.permutation(X.shape[0]) # Randomly permute a sequence, or return a permuted range.\n",
    "X = X[permutation]\n",
    "y = y[permutation]\n",
    "X = X.reshape((X.shape[0], -1))\n",
    "\n",
    "X_train, X_test, y_train, y_test = train_test_split(\n",
    "    X, y, train_size=train_samples, test_size=10000\n",
    ")\n",
    "\n",
    "# Standardize features by removing the mean and scaling to unit variance.\n",
    "# 将数据按期属性（按列进行）减去其均值，并处以其方差。得到的结果是，对于每个属性/每列来说所有数据都聚集在0附近，方差为1。\n",
    "# 使用sklearn.preprocessing.scale()函数，可以直接将给定数据进行标准化。\n",
    "# 使用sklearn.preprocessing.StandardScaler类，使用该类的好处在于可以保存训练集中的参数（均值、方差）直接使用其对象转换测试集数据。\n",
    "# https://www.cnblogs.com/chaosimple/p/4153167.html\n",
    "scaler = StandardScaler() \n",
    "X_train = scaler.fit_transform(X_train)\n",
    "X_test = scaler.transform(X_test)\n",
    "\n",
    "# Turn up tolerance for faster convergenc\n",
    "clf = LogisticRegression(C=50.0/train_samples, penalty=\"l1\", solver=\"saga\", tol=0.1)\n",
    "clf.fit(X_train, y_train)\n",
    "sparsity = np.mean(clf.coef_==0) * 100\n",
    "score = clf.score(X_test, y_test)\n",
    "print(\"Sparsity with L1 penalty: %.2f%%\" % sparsity)\n",
    "print(\"Test score with L1 penalty: %.4f\" % score)\n",
    "\n",
    "coef = clf.coef_.copy()\n",
    "plt.figure(figsize=(10, 5))\n",
    "scale = np.abs(coef).max()\n",
    "\n",
    "for i in range(10):\n",
    "    l1_plot = plt.subplot(2, 5, i+1)\n",
    "    l1_plot.imshow(\n",
    "        coef[i].reshape(28, 28),\n",
    "        interpolation=\"nearest\",\n",
    "        cmap=plt.cm.RdBu,\n",
    "        vmin=-scale,\n",
    "        vmax=scale\n",
    "    )\n",
    "    l1_plot.set_xticks(())\n",
    "    l1_plot.set_yticks(())\n",
    "    l1_plot.set_xlabel(\"Class %i\" % i)\n",
    "plt.suptitle(\"Classification vector for...\")\n",
    "\n",
    "run_time = time.time() - t0\n",
    "print(\"example run in %.3f s\" % run_time)\n",
    "plt.show()"
   ]
  },
  {
   "cell_type": "markdown",
   "id": "9a76351b",
   "metadata": {},
   "source": [
    "# Permutation\n"
   ]
  },
  {
   "cell_type": "code",
   "execution_count": 23,
   "id": "6b13b9d4",
   "metadata": {},
   "outputs": [
    {
     "ename": "IndexError",
     "evalue": "index 6 is out of bounds for axis 0 with size 1",
     "output_type": "error",
     "traceback": [
      "\u001b[0;31m---------------------------------------------------------------------------\u001b[0m",
      "\u001b[0;31mIndexError\u001b[0m                                Traceback (most recent call last)",
      "Cell \u001b[0;32mIn[23], line 4\u001b[0m\n\u001b[1;32m      2\u001b[0m random_state \u001b[38;5;241m=\u001b[39m check_random_state(\u001b[38;5;241m0\u001b[39m)\n\u001b[1;32m      3\u001b[0m permutation \u001b[38;5;241m=\u001b[39m random_state\u001b[38;5;241m.\u001b[39mpermutation(\u001b[38;5;241m7\u001b[39m)\n\u001b[0;32m----> 4\u001b[0m a \u001b[38;5;241m=\u001b[39m np\u001b[38;5;241m.\u001b[39marray([[\u001b[38;5;241m1\u001b[39m,\u001b[38;5;241m2\u001b[39m,\u001b[38;5;241m3\u001b[39m,\u001b[38;5;241m4\u001b[39m,\u001b[38;5;241m5\u001b[39m,\u001b[38;5;241m6\u001b[39m,\u001b[38;5;241m7\u001b[39m]])[permutation]\n\u001b[1;32m      5\u001b[0m permutation, \u001b[38;5;28mlen\u001b[39m(permutation), a\n",
      "\u001b[0;31mIndexError\u001b[0m: index 6 is out of bounds for axis 0 with size 1"
     ]
    }
   ],
   "source": [
    "from sklearn.utils import check_random_state\n",
    "random_state = check_random_state(0)\n",
    "permutation = random_state.permutation(7)\n",
    "a = np.array([1,2,3,4,5,6,7])[permutation]\n",
    "permutation, len(permutation), a"
   ]
  },
  {
   "cell_type": "markdown",
   "id": "af83fbf5",
   "metadata": {},
   "source": [
    "# StandardScaler"
   ]
  },
  {
   "cell_type": "code",
   "execution_count": 49,
   "id": "bfa5d8be",
   "metadata": {},
   "outputs": [
    {
     "data": {
      "image/png": "[encoded data removed]",
      "text/plain": [
       "<Figure size 640x480 with 1 Axes>"
      ]
     },
     "metadata": {},
     "output_type": "display_data"
    }
   ],
   "source": [
    "from sklearn.preprocessing import StandardScaler\n",
    "import matplotlib.pyplot as plt\n",
    "import numpy\n",
    "\n",
    "\n",
    "# Standardize features by removing the mean and scaling to unit variance.\n",
    "# 将数据按期属性（按列进行）减去其均值，并处以其方差。得到的结果是，对于每个属性/每列来说所有数据都聚集在0附近，方差为1。\n",
    "# 使用sklearn.preprocessing.scale()函数，可以直接将给定数据进行标准化。\n",
    "# 使用sklearn.preprocessing.StandardScaler类，使用该类的好处在于可以保存训练集中的参数（均值、方差）直接使用其对象转换测试集数据。\n",
    "# https://www.cnblogs.com/chaosimple/p/4153167.html\n",
    "scaler = StandardScaler() # 去均值和方差归一化。且是针对每一个特征维度来做的，而不是针对样本。\n",
    "data = [[0, 4], [1, 3], [2, 2], [3, 1]]\n",
    "scaler.fit(data)\n",
    "data2 = scaler.transform(data)\n",
    "data3 = scaler.transform([[0, 40], [10, 30], [20, 20], [30, 10]])\n",
    "\n",
    "plt.scatter(numpy.array(data)[:, 0], numpy.array(data)[:, 1], label=\"data\")\n",
    "plt.plot(numpy.array(data)[:, 0], numpy.array(data)[:, 1], label=\"data\")\n",
    "plt.scatter(numpy.array(data2)[:, 0], numpy.array(data2)[:, 1], label=\"data2\")\n",
    "plt.plot(numpy.array(data2)[:, 0], numpy.array(data2)[:, 1], label=\"data2\")\n",
    "plt.scatter(numpy.array(data3)[:, 0], numpy.array(data3)[:, 1], label=\"data3\")\n",
    "plt.plot(numpy.array(data3)[:, 0], numpy.array(data3)[:, 1], label=\"data3\")\n",
    "plt.show()"
   ]
  },
  {
   "cell_type": "code",
   "execution_count": 24,
   "id": "4f7fcb71",
   "metadata": {},
   "outputs": [
    {
     "name": "stderr",
     "output_type": "stream",
     "text": [
      "/Users/andrewy/anaconda3/envs/little_ai_zoo/lib/python3.11/site-packages/sklearn/datasets/_openml.py:1002: FutureWarning: The default value of `parser` will change from `'liac-arff'` to `'auto'` in 1.4. You can set `parser='auto'` to silence this warning. Therefore, an `ImportError` will be raised from 1.4 if the dataset is dense and pandas is not installed. Note that the pandas parser may return different data types. See the Notes Section in fetch_openml's API doc for details.\n",
      "  warn(\n"
     ]
    }
   ],
   "source": [
    "# Load data from https://www.openml.org/d/554\n",
    "X, y = fetch_openml(\"mnist_784\", version=1, return_X_y=True, as_frame=False)"
   ]
  },
  {
   "cell_type": "code",
   "execution_count": 38,
   "id": "06ce81c7",
   "metadata": {},
   "outputs": [
    {
     "name": "stderr",
     "output_type": "stream",
     "text": [
      "<>:1: SyntaxWarning: list indices must be integers or slices, not tuple; perhaps you missed a comma?\n",
      "<>:1: SyntaxWarning: list indices must be integers or slices, not tuple; perhaps you missed a comma?\n",
      "/var/folders/fd/120hdy_x5jgg_9v0_rv5k0l40000gn/T/ipykernel_71776/3120616753.py:1: SyntaxWarning: list indices must be integers or slices, not tuple; perhaps you missed a comma?\n",
      "  [[0, 4], [1, 3], [2, 2], [3, 1]][:, 0:1]\n",
      "/var/folders/fd/120hdy_x5jgg_9v0_rv5k0l40000gn/T/ipykernel_71776/3120616753.py:1: SyntaxWarning: list indices must be integers or slices, not tuple; perhaps you missed a comma?\n",
      "  [[0, 4], [1, 3], [2, 2], [3, 1]][:, 0:1]\n",
      "/var/folders/fd/120hdy_x5jgg_9v0_rv5k0l40000gn/T/ipykernel_71776/3120616753.py:1: SyntaxWarning: list indices must be integers or slices, not tuple; perhaps you missed a comma?\n",
      "  [[0, 4], [1, 3], [2, 2], [3, 1]][:, 0:1]\n",
      "/var/folders/fd/120hdy_x5jgg_9v0_rv5k0l40000gn/T/ipykernel_71776/3120616753.py:1: SyntaxWarning: list indices must be integers or slices, not tuple; perhaps you missed a comma?\n",
      "  [[0, 4], [1, 3], [2, 2], [3, 1]][:, 0:1]\n",
      "/var/folders/fd/120hdy_x5jgg_9v0_rv5k0l40000gn/T/ipykernel_71776/3120616753.py:1: SyntaxWarning: list indices must be integers or slices, not tuple; perhaps you missed a comma?\n",
      "  [[0, 4], [1, 3], [2, 2], [3, 1]][:, 0:1]\n"
     ]
    },
    {
     "ename": "TypeError",
     "evalue": "list indices must be integers or slices, not tuple",
     "output_type": "error",
     "traceback": [
      "\u001b[0;31m---------------------------------------------------------------------------\u001b[0m",
      "\u001b[0;31mTypeError\u001b[0m                                 Traceback (most recent call last)",
      "Cell \u001b[0;32mIn[38], line 1\u001b[0m\n\u001b[0;32m----> 1\u001b[0m [[\u001b[38;5;241m0\u001b[39m, \u001b[38;5;241m4\u001b[39m], [\u001b[38;5;241m1\u001b[39m, \u001b[38;5;241m3\u001b[39m], [\u001b[38;5;241m2\u001b[39m, \u001b[38;5;241m2\u001b[39m], [\u001b[38;5;241m3\u001b[39m, \u001b[38;5;241m1\u001b[39m]][:, \u001b[38;5;241m0\u001b[39m:\u001b[38;5;241m1\u001b[39m]\n",
      "\u001b[0;31mTypeError\u001b[0m: list indices must be integers or slices, not tuple"
     ]
    }
   ],
   "source": [
    "[[0, 4], [1, 3], [2, 2], [3, 1]][:, 0:1]"
   ]
  },
  {
   "cell_type": "code",
   "execution_count": 58,
   "id": "bf9ba734",
   "metadata": {},
   "outputs": [
    {
     "data": {
      "text/plain": [
       "''"
      ]
     },
     "execution_count": 58,
     "metadata": {},
     "output_type": "execute_result"
    }
   ],
   "source": [
    "\"abc123\"[3:-1:-1]"
   ]
  },
  {
   "cell_type": "code",
   "execution_count": null,
   "id": "7e8b1694",
   "metadata": {},
   "outputs": [],
   "source": []
  }
 ],
 "metadata": {
  "kernelspec": {
   "display_name": "Python 3 (ipykernel)",
   "language": "python",
   "name": "python3"
  },
  "language_info": {
   "codemirror_mode": {
    "name": "ipython",
    "version": 3
   },
   "file_extension": ".py",
   "mimetype": "text/x-python",
   "name": "python",
   "nbconvert_exporter": "python",
   "pygments_lexer": "ipython3",
   "version": "3.11.5"
  }
 },
 "nbformat": 4,
 "nbformat_minor": 5
}
